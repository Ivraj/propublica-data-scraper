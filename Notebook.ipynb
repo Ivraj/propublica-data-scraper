{
 "cells": [
  {
   "cell_type": "code",
   "execution_count": 1,
   "metadata": {
    "collapsed": true
   },
   "outputs": [],
   "source": [
    "x = 5"
   ]
  },
  {
   "cell_type": "code",
   "execution_count": 2,
   "metadata": {
    "collapsed": true
   },
   "outputs": [],
   "source": [
    "x = x + 1"
   ]
  },
  {
   "cell_type": "code",
   "execution_count": 3,
   "metadata": {
    "collapsed": false
   },
   "outputs": [
    {
     "name": "stdout",
     "output_type": "stream",
     "text": [
      "6\n"
     ]
    }
   ],
   "source": [
    "print x"
   ]
  },
  {
   "cell_type": "code",
   "execution_count": 5,
   "metadata": {
    "collapsed": false
   },
   "outputs": [],
   "source": [
    "import propublica\n",
    "\n",
    "orgnums = propublica.get_list_of_orgs(\"listoforgs.csv\")"
   ]
  },
  {
   "cell_type": "code",
   "execution_count": 6,
   "metadata": {
    "collapsed": false
   },
   "outputs": [
    {
     "data": {
      "text/plain": [
       "['43078945',\n",
       " '46002810',\n",
       " '42631286',\n",
       " '42645068',\n",
       " '41425590',\n",
       " '42426396',\n",
       " '222780253',\n",
       " '41696700',\n",
       " '204744523',\n",
       " '43573739',\n",
       " '42628384',\n",
       " '460697343',\n",
       " '43009105',\n",
       " '42456752',\n",
       " '202775261',\n",
       " '46042150',\n",
       " '42597463',\n",
       " '42587675',\n",
       " '204741249',\n",
       " '42230366',\n",
       " '42313930',\n",
       " '43399927',\n",
       " '42581946',\n",
       " '46066702',\n",
       " '510201171',\n",
       " '42444738',\n",
       " '461959847',\n",
       " '760795560',\n",
       " '43464134',\n",
       " '136085147',\n",
       " '203522249',\n",
       " '41833930']"
      ]
     },
     "execution_count": 6,
     "metadata": {},
     "output_type": "execute_result"
    }
   ],
   "source": [
    "orgnums"
   ]
  },
  {
   "cell_type": "code",
   "execution_count": null,
   "metadata": {
    "collapsed": true
   },
   "outputs": [],
   "source": []
  }
 ],
 "metadata": {
  "anaconda-cloud": {},
  "kernelspec": {
   "display_name": "Python [default]",
   "language": "python",
   "name": "python2"
  },
  "language_info": {
   "codemirror_mode": {
    "name": "ipython",
    "version": 2
   },
   "file_extension": ".py",
   "mimetype": "text/x-python",
   "name": "python",
   "nbconvert_exporter": "python",
   "pygments_lexer": "ipython2",
   "version": "2.7.12"
  }
 },
 "nbformat": 4,
 "nbformat_minor": 2
}
